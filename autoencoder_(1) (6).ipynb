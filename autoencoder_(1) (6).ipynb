{
  "cells": [
    {
      "cell_type": "markdown",
      "source": [
        "Import & Settings"
      ],
      "metadata": {
        "id": "0FlU-nisa0Cq"
      }
    },
    {
      "cell_type": "code",
      "source": [
        "import numpy as np\n",
        "import pandas as pd\n",
        "from sklearn.preprocessing import StandardScaler\n",
        "from scipy.stats import spearmanr\n",
        "import tensorflow as tf\n",
        "from itertools import product\n",
        "from keras.models import Model\n",
        "from keras.layers import Input, Dense\n",
        "import matplotlib.pyplot as plt\n",
        "from scipy.stats import spearmanr\n",
        "from tensorflow.keras.layers import Layer\n",
        "from tensorflow.keras import layers, Model\n",
        "from sklearn.linear_model import LinearRegression\n",
        "from sklearn.model_selection import TimeSeriesSplit"
      ],
      "metadata": {
        "id": "gm29I63qXgAH"
      },
      "execution_count": 84,
      "outputs": []
    },
    {
      "cell_type": "markdown",
      "source": [
        "1. Load and process data"
      ],
      "metadata": {
        "id": "m-HSjFyIa_dx"
      }
    },
    {
      "cell_type": "code",
      "execution_count": 85,
      "metadata": {
        "colab": {
          "base_uri": "https://localhost:8080/",
          "height": 73
        },
        "id": "25KpcFGe3dLq",
        "outputId": "85a59ce3-1df1-48d7-9040-e9f49240eebf",
        "collapsed": true
      },
      "outputs": [
        {
          "output_type": "display_data",
          "data": {
            "text/plain": [
              "<IPython.core.display.HTML object>"
            ],
            "text/html": [
              "\n",
              "     <input type=\"file\" id=\"files-30137c3e-2e56-44cc-ba77-f7e07c5fb7d1\" name=\"files[]\" multiple disabled\n",
              "        style=\"border:none\" />\n",
              "     <output id=\"result-30137c3e-2e56-44cc-ba77-f7e07c5fb7d1\">\n",
              "      Upload widget is only available when the cell has been executed in the\n",
              "      current browser session. Please rerun this cell to enable.\n",
              "      </output>\n",
              "      <script>// Copyright 2017 Google LLC\n",
              "//\n",
              "// Licensed under the Apache License, Version 2.0 (the \"License\");\n",
              "// you may not use this file except in compliance with the License.\n",
              "// You may obtain a copy of the License at\n",
              "//\n",
              "//      http://www.apache.org/licenses/LICENSE-2.0\n",
              "//\n",
              "// Unless required by applicable law or agreed to in writing, software\n",
              "// distributed under the License is distributed on an \"AS IS\" BASIS,\n",
              "// WITHOUT WARRANTIES OR CONDITIONS OF ANY KIND, either express or implied.\n",
              "// See the License for the specific language governing permissions and\n",
              "// limitations under the License.\n",
              "\n",
              "/**\n",
              " * @fileoverview Helpers for google.colab Python module.\n",
              " */\n",
              "(function(scope) {\n",
              "function span(text, styleAttributes = {}) {\n",
              "  const element = document.createElement('span');\n",
              "  element.textContent = text;\n",
              "  for (const key of Object.keys(styleAttributes)) {\n",
              "    element.style[key] = styleAttributes[key];\n",
              "  }\n",
              "  return element;\n",
              "}\n",
              "\n",
              "// Max number of bytes which will be uploaded at a time.\n",
              "const MAX_PAYLOAD_SIZE = 100 * 1024;\n",
              "\n",
              "function _uploadFiles(inputId, outputId) {\n",
              "  const steps = uploadFilesStep(inputId, outputId);\n",
              "  const outputElement = document.getElementById(outputId);\n",
              "  // Cache steps on the outputElement to make it available for the next call\n",
              "  // to uploadFilesContinue from Python.\n",
              "  outputElement.steps = steps;\n",
              "\n",
              "  return _uploadFilesContinue(outputId);\n",
              "}\n",
              "\n",
              "// This is roughly an async generator (not supported in the browser yet),\n",
              "// where there are multiple asynchronous steps and the Python side is going\n",
              "// to poll for completion of each step.\n",
              "// This uses a Promise to block the python side on completion of each step,\n",
              "// then passes the result of the previous step as the input to the next step.\n",
              "function _uploadFilesContinue(outputId) {\n",
              "  const outputElement = document.getElementById(outputId);\n",
              "  const steps = outputElement.steps;\n",
              "\n",
              "  const next = steps.next(outputElement.lastPromiseValue);\n",
              "  return Promise.resolve(next.value.promise).then((value) => {\n",
              "    // Cache the last promise value to make it available to the next\n",
              "    // step of the generator.\n",
              "    outputElement.lastPromiseValue = value;\n",
              "    return next.value.response;\n",
              "  });\n",
              "}\n",
              "\n",
              "/**\n",
              " * Generator function which is called between each async step of the upload\n",
              " * process.\n",
              " * @param {string} inputId Element ID of the input file picker element.\n",
              " * @param {string} outputId Element ID of the output display.\n",
              " * @return {!Iterable<!Object>} Iterable of next steps.\n",
              " */\n",
              "function* uploadFilesStep(inputId, outputId) {\n",
              "  const inputElement = document.getElementById(inputId);\n",
              "  inputElement.disabled = false;\n",
              "\n",
              "  const outputElement = document.getElementById(outputId);\n",
              "  outputElement.innerHTML = '';\n",
              "\n",
              "  const pickedPromise = new Promise((resolve) => {\n",
              "    inputElement.addEventListener('change', (e) => {\n",
              "      resolve(e.target.files);\n",
              "    });\n",
              "  });\n",
              "\n",
              "  const cancel = document.createElement('button');\n",
              "  inputElement.parentElement.appendChild(cancel);\n",
              "  cancel.textContent = 'Cancel upload';\n",
              "  const cancelPromise = new Promise((resolve) => {\n",
              "    cancel.onclick = () => {\n",
              "      resolve(null);\n",
              "    };\n",
              "  });\n",
              "\n",
              "  // Wait for the user to pick the files.\n",
              "  const files = yield {\n",
              "    promise: Promise.race([pickedPromise, cancelPromise]),\n",
              "    response: {\n",
              "      action: 'starting',\n",
              "    }\n",
              "  };\n",
              "\n",
              "  cancel.remove();\n",
              "\n",
              "  // Disable the input element since further picks are not allowed.\n",
              "  inputElement.disabled = true;\n",
              "\n",
              "  if (!files) {\n",
              "    return {\n",
              "      response: {\n",
              "        action: 'complete',\n",
              "      }\n",
              "    };\n",
              "  }\n",
              "\n",
              "  for (const file of files) {\n",
              "    const li = document.createElement('li');\n",
              "    li.append(span(file.name, {fontWeight: 'bold'}));\n",
              "    li.append(span(\n",
              "        `(${file.type || 'n/a'}) - ${file.size} bytes, ` +\n",
              "        `last modified: ${\n",
              "            file.lastModifiedDate ? file.lastModifiedDate.toLocaleDateString() :\n",
              "                                    'n/a'} - `));\n",
              "    const percent = span('0% done');\n",
              "    li.appendChild(percent);\n",
              "\n",
              "    outputElement.appendChild(li);\n",
              "\n",
              "    const fileDataPromise = new Promise((resolve) => {\n",
              "      const reader = new FileReader();\n",
              "      reader.onload = (e) => {\n",
              "        resolve(e.target.result);\n",
              "      };\n",
              "      reader.readAsArrayBuffer(file);\n",
              "    });\n",
              "    // Wait for the data to be ready.\n",
              "    let fileData = yield {\n",
              "      promise: fileDataPromise,\n",
              "      response: {\n",
              "        action: 'continue',\n",
              "      }\n",
              "    };\n",
              "\n",
              "    // Use a chunked sending to avoid message size limits. See b/62115660.\n",
              "    let position = 0;\n",
              "    do {\n",
              "      const length = Math.min(fileData.byteLength - position, MAX_PAYLOAD_SIZE);\n",
              "      const chunk = new Uint8Array(fileData, position, length);\n",
              "      position += length;\n",
              "\n",
              "      const base64 = btoa(String.fromCharCode.apply(null, chunk));\n",
              "      yield {\n",
              "        response: {\n",
              "          action: 'append',\n",
              "          file: file.name,\n",
              "          data: base64,\n",
              "        },\n",
              "      };\n",
              "\n",
              "      let percentDone = fileData.byteLength === 0 ?\n",
              "          100 :\n",
              "          Math.round((position / fileData.byteLength) * 100);\n",
              "      percent.textContent = `${percentDone}% done`;\n",
              "\n",
              "    } while (position < fileData.byteLength);\n",
              "  }\n",
              "\n",
              "  // All done.\n",
              "  yield {\n",
              "    response: {\n",
              "      action: 'complete',\n",
              "    }\n",
              "  };\n",
              "}\n",
              "\n",
              "scope.google = scope.google || {};\n",
              "scope.google.colab = scope.google.colab || {};\n",
              "scope.google.colab._files = {\n",
              "  _uploadFiles,\n",
              "  _uploadFilesContinue,\n",
              "};\n",
              "})(self);\n",
              "</script> "
            ]
          },
          "metadata": {}
        },
        {
          "output_type": "stream",
          "name": "stdout",
          "text": [
            "Saving market_data.xlsx to market_data (3).xlsx\n"
          ]
        }
      ],
      "source": [
        "from google.colab import files\n",
        "uploaded = files.upload()"
      ]
    },
    {
      "cell_type": "code",
      "execution_count": 86,
      "metadata": {
        "id": "5mYCP5sC3-k8",
        "colab": {
          "base_uri": "https://localhost:8080/"
        },
        "outputId": "f71d0391-b6dc-442c-eee0-26f8e9d92dec"
      },
      "outputs": [
        {
          "output_type": "stream",
          "name": "stdout",
          "text": [
            "['Date', 'EMP', 'PE', 'CAPE', 'DY', 'Rho', 'MOV ', 'IR', 'RR', 'Y02', 'Y10', 'STP', 'CF', 'MG', 'RV', 'ED', 'UN', 'GDP', 'M2', 'CPI', 'DIL', 'YSS', 'NYF', '_AU', '_DXY', '_LCP', '_TY', '_OIL', '_MKT', '_VA', '_GR']\n"
          ]
        }
      ],
      "source": [
        "df = pd.read_excel(\"market_data.xlsx\")\n",
        "# Show first rows\n",
        "print(df.columns.tolist())\n",
        "# Delete columns Date and target _MKT\n",
        "X_full = df.drop(columns=[\"Date\", \"_MKT\"])\n",
        "# Remove extra spaces\n",
        "df.columns = df.columns.str.strip()"
      ]
    },
    {
      "cell_type": "markdown",
      "source": [
        "Define signal sets"
      ],
      "metadata": {
        "id": "ozl0r-xBbHLq"
      }
    },
    {
      "cell_type": "code",
      "execution_count": 87,
      "metadata": {
        "id": "45fdc30f"
      },
      "outputs": [],
      "source": [
        "signal_sets = {\n",
        "    \"Set 1: Valuation\"        : ['PE', 'CAPE', 'DY'],\n",
        "    \"Set 2: Interest Rates\"   : ['IR', 'RR', 'Y02', 'Y10', 'STP'],\n",
        "    \"Set 3: Macro Conditions\" : ['GDP', 'M2', 'CPI', 'UN', 'CF'],\n",
        "    \"Set 4: Corporate Health\" : ['MG', 'RV', 'ED'],\n",
        "    \"Set 5: Risk Sentiment\"   : ['Rho', 'MOV', 'YSS', 'NYF', '_DXY', '_OIL'],\n",
        "    \"Set 6: Style & Asset\"    : ['_VA', '_GR', '_AU', '_TY'],\n",
        "    \"Set 7: Full Set\"         : [col for col in df.columns if col not in ['Date', '_MKT']]\n",
        "}"
      ]
    },
    {
      "cell_type": "markdown",
      "source": [
        "Apply standard AE"
      ],
      "metadata": {
        "id": "OPXF5eXibSJ4"
      }
    },
    {
      "cell_type": "code",
      "execution_count": 88,
      "metadata": {
        "id": "e62a9944",
        "collapsed": true
      },
      "outputs": [],
      "source": [
        "autoencoder_results = {}\n",
        "\n",
        "for set_name, columns in signal_sets.items():\n",
        "\n",
        "    # Prepare data\n",
        "    data = df[columns].dropna()\n",
        "    scaler = StandardScaler()\n",
        "    X_scaled = scaler.fit_transform(data)\n",
        "\n",
        "    # simple AE architecture\n",
        "    input_dim = X_scaled.shape[1]\n",
        "    input_layer = Input(shape=(input_dim,))\n",
        "    encoded = Dense(4, activation='relu')(input_layer)\n",
        "    decoded = Dense(input_dim, activation='linear')(encoded)\n",
        "    autoencoder = Model(inputs=input_layer, outputs=decoded)\n",
        "    autoencoder.compile(optimizer='adam', loss='mse')\n",
        "\n",
        "    # Training\n",
        "    history = autoencoder.fit(X_scaled, X_scaled, epochs=100, batch_size=16, verbose=0)\n",
        "\n",
        "    # Save results\n",
        "    loss = history.history['loss']\n",
        "    autoencoder_results[set_name] = {\n",
        "        \"loss\": loss,\n",
        "        \"final_loss\": loss[-1]\n",
        "    }\n"
      ]
    },
    {
      "cell_type": "code",
      "source": [
        "latent_codes = {}\n",
        "target_returns = {}\n",
        "\n",
        "for set_name, columns in signal_sets.items():\n",
        "\n",
        "    # Prepare data\n",
        "    data = df[columns + ['_MKT']].dropna()\n",
        "    X = data[columns].values\n",
        "    y = data['_MKT'].shift(-1).dropna()  # target\n",
        "\n",
        "    # Align X e y\n",
        "    X = X[:-1]\n",
        "    y = y.values\n",
        "\n",
        "    scaler = StandardScaler()\n",
        "    X_scaled = scaler.fit_transform(X)\n",
        "\n",
        "    # Architecture\n",
        "    input_dim = X_scaled.shape[1]\n",
        "    input_layer = Input(shape=(input_dim,))\n",
        "    encoded_layer = Dense(4, activation='relu')(input_layer)\n",
        "    decoded_layer = Dense(input_dim, activation='linear')(encoded_layer)\n",
        "    autoencoder = Model(inputs=input_layer, outputs=decoded_layer)\n",
        "    autoencoder.compile(optimizer='adam', loss='mse')\n",
        "    autoencoder.fit(X_scaled, X_scaled, epochs=100, batch_size=16, verbose=0)\n",
        "\n",
        "    # Extract latent code\n",
        "    encoder = Model(inputs=input_layer, outputs=encoded_layer)\n",
        "    latent = encoder.predict(X_scaled)\n",
        "\n",
        "    latent_codes[set_name] = latent\n",
        "    target_returns[set_name] = y\n"
      ],
      "metadata": {
        "id": "G7atE3MS9edN",
        "collapsed": true,
        "colab": {
          "base_uri": "https://localhost:8080/"
        },
        "outputId": "c8d9ab86-785f-4230-a487-64b709f4c7a6"
      },
      "execution_count": 89,
      "outputs": [
        {
          "output_type": "stream",
          "name": "stdout",
          "text": [
            "\u001b[1m61/61\u001b[0m \u001b[32m━━━━━━━━━━━━━━━━━━━━\u001b[0m\u001b[37m\u001b[0m \u001b[1m0s\u001b[0m 1ms/step  \n",
            "\u001b[1m61/61\u001b[0m \u001b[32m━━━━━━━━━━━━━━━━━━━━\u001b[0m\u001b[37m\u001b[0m \u001b[1m0s\u001b[0m 1ms/step  \n",
            "\u001b[1m61/61\u001b[0m \u001b[32m━━━━━━━━━━━━━━━━━━━━\u001b[0m\u001b[37m\u001b[0m \u001b[1m0s\u001b[0m 2ms/step  \n",
            "\u001b[1m61/61\u001b[0m \u001b[32m━━━━━━━━━━━━━━━━━━━━\u001b[0m\u001b[37m\u001b[0m \u001b[1m0s\u001b[0m 1ms/step  \n",
            "\u001b[1m61/61\u001b[0m \u001b[32m━━━━━━━━━━━━━━━━━━━━\u001b[0m\u001b[37m\u001b[0m \u001b[1m0s\u001b[0m 1ms/step  \n",
            "\u001b[1m61/61\u001b[0m \u001b[32m━━━━━━━━━━━━━━━━━━━━\u001b[0m\u001b[37m\u001b[0m \u001b[1m0s\u001b[0m 2ms/step  \n",
            "\u001b[1m61/61\u001b[0m \u001b[32m━━━━━━━━━━━━━━━━━━━━\u001b[0m\u001b[37m\u001b[0m \u001b[1m0s\u001b[0m 2ms/step  \n"
          ]
        }
      ]
    },
    {
      "cell_type": "markdown",
      "source": [
        "Information Coefficient"
      ],
      "metadata": {
        "id": "NRRC4QoinOrb"
      }
    },
    {
      "cell_type": "code",
      "source": [
        "latent_codes = latent_ae\n",
        "target_returns = target_returns_ae\n",
        "n_splits = 5\n",
        "ic_results_ae = {}\n",
        "\n",
        "for set_name in latent_codes:\n",
        "    X = latent_codes[set_name]\n",
        "    y = target_returns[set_name]\n",
        "\n",
        "    tscv = TimeSeriesSplit(n_splits=n_splits)\n",
        "    ic_folds = []\n",
        "\n",
        "    for train_idx, test_idx in tscv.split(X):\n",
        "        X_train, X_test = X[train_idx], X[test_idx]\n",
        "        y_train, y_test = y[train_idx], y[test_idx]\n",
        "\n",
        "        model = LinearRegression()\n",
        "        model.fit(X_train, y_train)\n",
        "        y_pred = model.predict(X_test)\n",
        "\n",
        "        if np.std(y_pred) > 0 and np.std(y_test) > 0:\n",
        "            ic = spearmanr(y_pred, y_test).correlation\n",
        "            ic_folds.append(ic)\n",
        "        else:\n",
        "            ic_folds.append(np.nan)\n",
        "\n",
        "\n",
        "        ic_results_ae[set_name] = np.nanmean(ic_folds)\n"
      ],
      "metadata": {
        "id": "T2knjOo_-d-l",
        "collapsed": true
      },
      "execution_count": 107,
      "outputs": []
    },
    {
      "cell_type": "markdown",
      "source": [
        "Sharpe Ratio"
      ],
      "metadata": {
        "id": "DQSIxg4TnTOh"
      }
    },
    {
      "cell_type": "code",
      "source": [
        "latent_codes = latent_ae\n",
        "target_returns = target_returns_ae\n",
        "n_splits = 5\n",
        "sharpe_results_ae = {}\n",
        "\n",
        "for set_name in latent_codes:\n",
        "    X = latent_codes[set_name]\n",
        "    y = target_returns[set_name]\n",
        "\n",
        "    tscv = TimeSeriesSplit(n_splits=n_splits)\n",
        "    pnl_all = []\n",
        "\n",
        "    for train_idx, test_idx in tscv.split(X):\n",
        "        X_train, X_test = X[train_idx], X[test_idx]\n",
        "        y_train, y_test = y[train_idx], y[test_idx]\n",
        "\n",
        "        model = LinearRegression()\n",
        "        model.fit(X_train, y_train)\n",
        "        y_pred = model.predict(X_test)\n",
        "\n",
        "        pnl = y_pred * y_test  # uso continuo, come FFNN\n",
        "        pnl_all.extend(pnl)\n",
        "\n",
        "    pnl_all = np.array(pnl_all)\n",
        "    sharpe = np.mean(pnl_all) / np.std(pnl_all) * np.sqrt(252)\n",
        "    sharpe_results_ae[set_name] = sharpe\n"
      ],
      "metadata": {
        "id": "MlDa4gLP7dgT"
      },
      "execution_count": 91,
      "outputs": []
    },
    {
      "cell_type": "markdown",
      "source": [
        "Results"
      ],
      "metadata": {
        "id": "Z0VhNmQynWH_"
      }
    },
    {
      "cell_type": "code",
      "source": [
        "# Reconstruct results\n",
        "results = []\n",
        "\n",
        "for set_name in ic_results_ae:\n",
        "    avg_ic = ic_results_ae[set_name]\n",
        "    sharpe = sharpe_results_ae[set_name]\n",
        "\n",
        "    results.append({\n",
        "        \"Signal Set\": set_name,\n",
        "        \"Avg IC\": round(avg_ic, 4),\n",
        "        \"Avg Sharpe\": round(sharpe, 4)\n",
        "    })\n",
        "\n",
        "results_df_ae = pd.DataFrame(results).sort_values(\n",
        "    [\"Avg IC\", \"Avg Sharpe\"], ascending=False\n",
        ")\n",
        "\n",
        "print(results_df_ae)\n"
      ],
      "metadata": {
        "id": "gF_Pc9kLSslC",
        "colab": {
          "base_uri": "https://localhost:8080/"
        },
        "outputId": "48d9e5a0-2323-4357-e15d-d537a1ba7ec6"
      },
      "execution_count": 104,
      "outputs": [
        {
          "output_type": "stream",
          "name": "stdout",
          "text": [
            "                Signal Set  Avg IC  Avg Sharpe\n",
            "5     Set 6: Style & Asset  0.9664      9.6023\n",
            "1    Set 2: Interest Rates  0.3280     12.9849\n",
            "3  Set 4: Corporate Health  0.2442     12.3166\n",
            "6          Set 7: Full Set  0.2436     10.7590\n",
            "0         Set 1: Valuation  0.1896     11.2905\n",
            "4    Set 5: Risk Sentiment -0.2656     11.3266\n",
            "2  Set 3: Macro Conditions -0.3357     10.6931\n"
          ]
        }
      ]
    },
    {
      "cell_type": "markdown",
      "source": [
        "Apply Contractive Autoencoder"
      ],
      "metadata": {
        "id": "ZsLk8R30l6AM"
      }
    },
    {
      "cell_type": "code",
      "execution_count": 93,
      "metadata": {
        "id": "kDkiRJBIIj59"
      },
      "outputs": [],
      "source": [
        "class ContractiveBottleneck(Layer):\n",
        "    def __init__(self, units, lam=1e-4, **kwargs):\n",
        "        super(ContractiveBottleneck, self).__init__(**kwargs)\n",
        "        self.units = units\n",
        "        self.lam = lam\n",
        "        self.dense = Dense(units, activation='sigmoid', name='bottleneck')\n",
        "\n",
        "    def call(self, inputs):\n",
        "        h = self.dense(inputs)\n",
        "        dh = h * (1 - h)  # derivative of sigmoid\n",
        "        contractive_loss = self.lam * tf.reduce_sum(tf.square(self.dense.kernel)) * tf.reduce_sum(tf.square(dh))\n",
        "        self.add_loss(contractive_loss)\n",
        "        return h\n"
      ]
    },
    {
      "cell_type": "code",
      "execution_count": 94,
      "metadata": {
        "id": "W69_JqSQInFw",
        "collapsed": true,
        "colab": {
          "base_uri": "https://localhost:8080/"
        },
        "outputId": "edf47cb1-e92c-4189-e2f4-d613c9cdba85"
      },
      "outputs": [
        {
          "output_type": "stream",
          "name": "stdout",
          "text": [
            "\u001b[1m61/61\u001b[0m \u001b[32m━━━━━━━━━━━━━━━━━━━━\u001b[0m\u001b[37m\u001b[0m \u001b[1m0s\u001b[0m 2ms/step\n",
            "\u001b[1m61/61\u001b[0m \u001b[32m━━━━━━━━━━━━━━━━━━━━\u001b[0m\u001b[37m\u001b[0m \u001b[1m0s\u001b[0m 2ms/step\n",
            "\u001b[1m61/61\u001b[0m \u001b[32m━━━━━━━━━━━━━━━━━━━━\u001b[0m\u001b[37m\u001b[0m \u001b[1m0s\u001b[0m 2ms/step  \n",
            "\u001b[1m61/61\u001b[0m \u001b[32m━━━━━━━━━━━━━━━━━━━━\u001b[0m\u001b[37m\u001b[0m \u001b[1m0s\u001b[0m 2ms/step\n",
            "\u001b[1m61/61\u001b[0m \u001b[32m━━━━━━━━━━━━━━━━━━━━\u001b[0m\u001b[37m\u001b[0m \u001b[1m0s\u001b[0m 2ms/step\n",
            "\u001b[1m61/61\u001b[0m \u001b[32m━━━━━━━━━━━━━━━━━━━━\u001b[0m\u001b[37m\u001b[0m \u001b[1m0s\u001b[0m 2ms/step\n",
            "\u001b[1m61/61\u001b[0m \u001b[32m━━━━━━━━━━━━━━━━━━━━\u001b[0m\u001b[37m\u001b[0m \u001b[1m0s\u001b[0m 4ms/step\n"
          ]
        }
      ],
      "source": [
        "latent_cae = {}\n",
        "target_returns_cae = {}\n",
        "\n",
        "for set_name, columns in signal_sets.items():\n",
        "\n",
        "    # Prepare data\n",
        "    data = df[columns + ['_MKT']].dropna()\n",
        "    X = data[columns].values\n",
        "    y = data['_MKT'].shift(-1).dropna()\n",
        "    X = X[:-1]\n",
        "    y = y.values\n",
        "\n",
        "    scaler = StandardScaler()\n",
        "    X_scaled = scaler.fit_transform(X)\n",
        "\n",
        "    # CAE architecture definition\n",
        "    input_dim = X_scaled.shape[1]\n",
        "    input_layer = Input(shape=(input_dim,))\n",
        "    encoded = Dense(12, activation='relu')(input_layer)\n",
        "    encoded = Dense(6, activation='relu')(encoded)\n",
        "    bottleneck = ContractiveBottleneck(3)(encoded)\n",
        "    decoded = Dense(6, activation='relu')(bottleneck)\n",
        "    decoded = Dense(12, activation='relu')(decoded)\n",
        "    output_layer = Dense(input_dim, activation='linear')(decoded)\n",
        "\n",
        "    autoencoder_cae = Model(inputs=input_layer, outputs=output_layer)\n",
        "    autoencoder_cae.compile(optimizer='adam', loss='mse')\n",
        "\n",
        "    autoencoder_cae.fit(X_scaled, X_scaled, epochs=100, batch_size=16, verbose=0)\n",
        "\n",
        "    # Extract latent signals\n",
        "    encoder_cae = Model(inputs=input_layer, outputs=bottleneck)\n",
        "    latent_cae[set_name] = encoder_cae.predict(X_scaled)\n",
        "    target_returns_cae[set_name] = y\n",
        "\n"
      ]
    },
    {
      "cell_type": "markdown",
      "source": [
        "Information Coefficient"
      ],
      "metadata": {
        "id": "cMa7ZOz6rL5a"
      }
    },
    {
      "cell_type": "code",
      "execution_count": 108,
      "metadata": {
        "id": "m0JLzaonIp8b",
        "collapsed": true
      },
      "outputs": [],
      "source": [
        "latent_codes = latent_cae\n",
        "target_returns = target_returns_cae\n",
        "n_splits = 5\n",
        "ic_results_cae = {}\n",
        "\n",
        "for set_name in latent_codes:\n",
        "    X = latent_codes[set_name]\n",
        "    y = target_returns[set_name]\n",
        "\n",
        "    tscv = TimeSeriesSplit(n_splits=n_splits)\n",
        "    ic_folds = []\n",
        "\n",
        "    for train_idx, test_idx in tscv.split(X):\n",
        "        X_train, X_test = X[train_idx], X[test_idx]\n",
        "        y_train, y_test = y[train_idx], y[test_idx]\n",
        "\n",
        "        model = LinearRegression()\n",
        "        model.fit(X_train, y_train)\n",
        "        y_pred = model.predict(X_test)\n",
        "\n",
        "        if np.std(y_pred) > 0 and np.std(y_test) > 0:\n",
        "            ic = spearmanr(y_pred, y_test).correlation\n",
        "            ic_folds.append(ic)\n",
        "        else:\n",
        "            ic_folds.append(np.nan)\n",
        "\n",
        "\n",
        "        ic_results_cae[set_name] = np.nanmean(ic_folds)\n"
      ]
    },
    {
      "cell_type": "markdown",
      "source": [
        "Sharpe Ratio"
      ],
      "metadata": {
        "id": "qvmEJQpgnjlo"
      }
    },
    {
      "cell_type": "code",
      "execution_count": 96,
      "metadata": {
        "id": "AqQfjuF5JzOT",
        "collapsed": true
      },
      "outputs": [],
      "source": [
        "latent_codes = latent_cae\n",
        "target_returns = target_returns_cae\n",
        "n_splits = 5\n",
        "sharpe_results_cae = {}\n",
        "\n",
        "for set_name in latent_codes:\n",
        "    X = latent_codes[set_name]\n",
        "    y = target_returns[set_name]\n",
        "\n",
        "    tscv = TimeSeriesSplit(n_splits=n_splits)\n",
        "    pnl_all = []\n",
        "\n",
        "    for train_idx, test_idx in tscv.split(X):\n",
        "        X_train, X_test = X[train_idx], X[test_idx]\n",
        "        y_train, y_test = y[train_idx], y[test_idx]\n",
        "\n",
        "        model = LinearRegression()\n",
        "        model.fit(X_train, y_train)\n",
        "        y_pred = model.predict(X_test)\n",
        "\n",
        "        pnl = y_pred * y_test\n",
        "        pnl_all.extend(pnl)\n",
        "\n",
        "    pnl_all = np.array(pnl_all)\n",
        "    sharpe = np.mean(pnl_all) / np.std(pnl_all) * np.sqrt(252)\n",
        "    sharpe_results_cae[set_name] = sharpe\n"
      ]
    },
    {
      "cell_type": "markdown",
      "source": [
        "Result Contractive Autoencoder"
      ],
      "metadata": {
        "id": "-_rciHsNnnQ5"
      }
    },
    {
      "cell_type": "code",
      "source": [
        "# Reconstruct results CAE\n",
        "results_cae = []\n",
        "\n",
        "for set_name in ic_results_cae:\n",
        "    avg_ic = np.mean(ic_results_cae[set_name])\n",
        "    sharpe = sharpe_results_cae[set_name]\n",
        "    results_cae.append({\n",
        "        \"Signal Set\": set_name,\n",
        "        \"Avg IC\": round(avg_ic, 4),\n",
        "        \"Avg Sharpe\": round(sharpe, 4)\n",
        "    })\n",
        "\n",
        "results_df_cae = pd.DataFrame(results_cae).sort_values(\n",
        "    [\"Avg IC\", \"Avg Sharpe\"], ascending=False\n",
        ")\n",
        "\n",
        "print(results_df_cae)"
      ],
      "metadata": {
        "id": "cxJNNl95TPkt",
        "colab": {
          "base_uri": "https://localhost:8080/"
        },
        "outputId": "63bdeaf1-2a7f-41b6-8e35-cfde3fa445a5"
      },
      "execution_count": 105,
      "outputs": [
        {
          "output_type": "stream",
          "name": "stdout",
          "text": [
            "                Signal Set  Avg IC  Avg Sharpe\n",
            "5     Set 6: Style & Asset  0.8815     12.3638\n",
            "1    Set 2: Interest Rates  0.3391     13.2221\n",
            "0         Set 1: Valuation  0.2496     11.5058\n",
            "3  Set 4: Corporate Health  0.1202     11.1546\n",
            "6          Set 7: Full Set  0.1034     10.7920\n",
            "4    Set 5: Risk Sentiment -0.2932     12.1900\n",
            "2  Set 3: Macro Conditions -0.4675     10.4853\n"
          ]
        }
      ]
    },
    {
      "cell_type": "markdown",
      "source": [
        "Apply Variational Autoencoder"
      ],
      "metadata": {
        "id": "ouEYvxxZnv9S"
      }
    },
    {
      "cell_type": "code",
      "execution_count": 98,
      "metadata": {
        "id": "22YOHFAJNkJE"
      },
      "outputs": [],
      "source": [
        "class Sampling(layers.Layer):\n",
        "    def call(self, inputs):\n",
        "        z_mean, z_log_var = inputs\n",
        "        epsilon = tf.random.normal(shape=tf.shape(z_mean))\n",
        "        return z_mean + tf.exp(0.5 * z_log_var) * epsilon\n",
        "\n",
        "class VAE(Model):\n",
        "    def __init__(self, original_dim, latent_dim=3):\n",
        "        super(VAE, self).__init__()\n",
        "        self.original_dim = original_dim\n",
        "        self.latent_dim = latent_dim\n",
        "\n",
        "        self.encoder = tf.keras.Sequential([\n",
        "            layers.InputLayer(shape=(original_dim,)),\n",
        "            layers.Dense(64, activation='relu'),\n",
        "            layers.Dense(32, activation='relu'),\n",
        "            layers.Dense(latent_dim + latent_dim),  # z_mean + z_log_var\n",
        "        ])\n",
        "\n",
        "        self.decoder = tf.keras.Sequential([\n",
        "            layers.InputLayer(shape=(latent_dim,)),\n",
        "            layers.Dense(32, activation='relu'),\n",
        "            layers.Dense(64, activation='relu'),\n",
        "            layers.Dense(original_dim),\n",
        "        ])\n",
        "        self.sampler = Sampling()\n",
        "\n",
        "    def call(self, inputs):\n",
        "        z_params = self.encoder(inputs)\n",
        "        z_mean, z_log_var = tf.split(z_params, num_or_size_splits=2, axis=1)\n",
        "        z = self.sampler((z_mean, z_log_var))\n",
        "        reconstruction = self.decoder(z)\n",
        "\n",
        "        # KL divergence\n",
        "        kl_loss = -0.5 * tf.reduce_sum(1 + z_log_var - tf.square(z_mean) - tf.exp(z_log_var), axis=1)\n",
        "        self.add_loss(tf.reduce_mean(kl_loss))\n",
        "        return reconstruction"
      ]
    },
    {
      "cell_type": "code",
      "execution_count": 99,
      "metadata": {
        "id": "BdLe9gpENnap",
        "collapsed": true,
        "colab": {
          "base_uri": "https://localhost:8080/"
        },
        "outputId": "55799a3d-a473-4a1f-fc37-d08c5938985c"
      },
      "outputs": [
        {
          "output_type": "stream",
          "name": "stdout",
          "text": [
            "\u001b[1m61/61\u001b[0m \u001b[32m━━━━━━━━━━━━━━━━━━━━\u001b[0m\u001b[37m\u001b[0m \u001b[1m0s\u001b[0m 2ms/step  \n",
            "\u001b[1m61/61\u001b[0m \u001b[32m━━━━━━━━━━━━━━━━━━━━\u001b[0m\u001b[37m\u001b[0m \u001b[1m0s\u001b[0m 2ms/step\n",
            "\u001b[1m61/61\u001b[0m \u001b[32m━━━━━━━━━━━━━━━━━━━━\u001b[0m\u001b[37m\u001b[0m \u001b[1m0s\u001b[0m 2ms/step  \n",
            "\u001b[1m61/61\u001b[0m \u001b[32m━━━━━━━━━━━━━━━━━━━━\u001b[0m\u001b[37m\u001b[0m \u001b[1m0s\u001b[0m 2ms/step  \n",
            "\u001b[1m61/61\u001b[0m \u001b[32m━━━━━━━━━━━━━━━━━━━━\u001b[0m\u001b[37m\u001b[0m \u001b[1m0s\u001b[0m 2ms/step\n",
            "\u001b[1m61/61\u001b[0m \u001b[32m━━━━━━━━━━━━━━━━━━━━\u001b[0m\u001b[37m\u001b[0m \u001b[1m0s\u001b[0m 2ms/step  \n",
            "\u001b[1m61/61\u001b[0m \u001b[32m━━━━━━━━━━━━━━━━━━━━\u001b[0m\u001b[37m\u001b[0m \u001b[1m0s\u001b[0m 2ms/step  \n"
          ]
        }
      ],
      "source": [
        "latent_vae = {}\n",
        "target_returns_vae = {}\n",
        "\n",
        "for set_name, columns in signal_sets.items():\n",
        "\n",
        "    # Prepare data and future return target\n",
        "    data = df[columns + ['_MKT']].copy()\n",
        "    data['_target'] = data['_MKT'].shift(-1)\n",
        "    data = data.dropna()\n",
        "\n",
        "    X = data[columns].values\n",
        "    y = data['_target'].values\n",
        "\n",
        "    scaler = StandardScaler()\n",
        "    X_scaled = scaler.fit_transform(X)\n",
        "\n",
        "    # Create VAE model\n",
        "    original_dim = X_scaled.shape[1]\n",
        "    vae = VAE(original_dim=original_dim, latent_dim=3)  # make sure 'shape=' is used inside VAE class\n",
        "    vae.compile(optimizer='adam', loss='mse')\n",
        "\n",
        "    # Train the VAE\n",
        "    vae.fit(X_scaled, X_scaled, epochs=100, batch_size=16, verbose=0)\n",
        "\n",
        "    # Extract latent representation (z_mean)\n",
        "    z_params = vae.encoder.predict(X_scaled)\n",
        "    z_mean, z_log_var = np.split(z_params, 2, axis=1)\n",
        "\n",
        "    latent_vae[set_name] = z_mean\n",
        "    target_returns_vae[set_name] = y"
      ]
    },
    {
      "cell_type": "markdown",
      "source": [
        "Information Coefficient"
      ],
      "metadata": {
        "id": "KTA4Ff31n3tE"
      }
    },
    {
      "cell_type": "code",
      "source": [
        "latent_codes = latent_vae\n",
        "target_returns = target_returns_vae\n",
        "n_splits = 5\n",
        "ic_results_vae = {}\n",
        "\n",
        "for set_name in latent_codes:\n",
        "    X = latent_codes[set_name]\n",
        "    y = target_returns[set_name]\n",
        "\n",
        "    tscv = TimeSeriesSplit(n_splits=n_splits)\n",
        "    ic_folds = []\n",
        "\n",
        "    for train_idx, test_idx in tscv.split(X):\n",
        "        X_train, X_test = X[train_idx], X[test_idx]\n",
        "        y_train, y_test = y[train_idx], y[test_idx]\n",
        "\n",
        "        model = LinearRegression()\n",
        "        model.fit(X_train, y_train)\n",
        "        y_pred = model.predict(X_test)\n",
        "\n",
        "        if np.std(y_pred) > 0 and np.std(y_test) > 0:\n",
        "            ic = spearmanr(y_pred, y_test).correlation\n",
        "            ic_folds.append(ic)\n",
        "        else:\n",
        "            ic_folds.append(np.nan)\n",
        "\n",
        "\n",
        "    ic_results_vae[set_name] = np.mean(ic_folds)\n",
        "\n",
        "print(\"Information Coefficient VAE:\")\n",
        "print(pd.DataFrame([\n",
        "    {\"Signal Set\": k, \"Improved IC\": round(v, 4)}\n",
        "    for k, v in ic_results_vae.items()\n",
        "]).sort_values(by=\"Improved IC\", ascending=False))\n"
      ],
      "metadata": {
        "collapsed": true,
        "id": "oGzoJBkaRhB3",
        "colab": {
          "base_uri": "https://localhost:8080/"
        },
        "outputId": "1d7d0eca-194b-4514-fea6-07e10020e051"
      },
      "execution_count": 110,
      "outputs": [
        {
          "output_type": "stream",
          "name": "stdout",
          "text": [
            "Information Coefficient VAE:\n",
            "                Signal Set  Improved IC\n",
            "5     Set 6: Style & Asset       0.4587\n",
            "4    Set 5: Risk Sentiment       0.0801\n",
            "0         Set 1: Valuation      -0.0071\n",
            "2  Set 3: Macro Conditions      -0.0537\n",
            "3  Set 4: Corporate Health      -0.0687\n",
            "1    Set 2: Interest Rates      -0.0918\n",
            "6          Set 7: Full Set          NaN\n"
          ]
        },
        {
          "output_type": "stream",
          "name": "stderr",
          "text": [
            "/tmp/ipython-input-110-4147055838.py:22: ConstantInputWarning: An input array is constant; the correlation coefficient is not defined.\n",
            "  ic = spearmanr(y_pred, y_test).correlation\n"
          ]
        }
      ]
    },
    {
      "cell_type": "markdown",
      "source": [
        "Sharpe Ratio"
      ],
      "metadata": {
        "id": "KJBy4zT1n8AU"
      }
    },
    {
      "cell_type": "code",
      "source": [
        "latent_codes = latent_vae\n",
        "target_returns = target_returns_vae\n",
        "n_splits = 5\n",
        "sharpe_results_vae = {}\n",
        "\n",
        "for set_name in latent_codes:\n",
        "    X = latent_codes[set_name]\n",
        "    y = target_returns[set_name]\n",
        "\n",
        "    tscv = TimeSeriesSplit(n_splits=n_splits)\n",
        "    pnl_all = []\n",
        "\n",
        "    for train_idx, test_idx in tscv.split(X):\n",
        "        X_train, X_test = X[train_idx], X[test_idx]\n",
        "        y_train, y_test = y[train_idx], y[test_idx]\n",
        "\n",
        "        model = LinearRegression()\n",
        "        model.fit(X_train, y_train)\n",
        "        y_pred = model.predict(X_test)\n",
        "\n",
        "        pnl = y_pred * y_test\n",
        "        pnl_all.extend(pnl)\n",
        "\n",
        "    pnl_all = np.array(pnl_all)\n",
        "    sharpe = np.mean(pnl_all) / np.std(pnl_all) * np.sqrt(252)\n",
        "    sharpe_results_vae[set_name] = sharpe\n"
      ],
      "metadata": {
        "collapsed": true,
        "id": "kmHoFEFYRj9q"
      },
      "execution_count": 111,
      "outputs": []
    },
    {
      "cell_type": "markdown",
      "source": [
        "Results Variational Autoencoder"
      ],
      "metadata": {
        "id": "ephaD1wIn-sP"
      }
    },
    {
      "cell_type": "code",
      "source": [
        "\n",
        "results_vae = []\n",
        "\n",
        "for set_name in ic_results_vae:\n",
        "    avg_ic = np.mean(ic_results_vae[set_name])\n",
        "    sharpe = sharpe_results_vae[set_name]\n",
        "    results_vae.append({\n",
        "        \"Signal Set\": set_name,\n",
        "        \"Avg IC\": round(avg_ic, 4),\n",
        "        \"Avg Sharpe\": round(sharpe, 4)\n",
        "    })\n",
        "\n",
        "results_df_vae = pd.DataFrame(results_vae).sort_values(\n",
        "    [\"Avg IC\", \"Avg Sharpe\"], ascending=False\n",
        ")\n",
        "\n",
        "print(results_df_vae)"
      ],
      "metadata": {
        "id": "L5LXpovTTUja",
        "colab": {
          "base_uri": "https://localhost:8080/"
        },
        "outputId": "3d475646-3d9b-47a4-b54c-8a43a34f385e"
      },
      "execution_count": 102,
      "outputs": [
        {
          "output_type": "stream",
          "name": "stdout",
          "text": [
            "                Signal Set  Avg IC  Avg Sharpe\n",
            "5     Set 6: Style & Asset  0.4587      9.6224\n",
            "4    Set 5: Risk Sentiment  0.0801     10.3169\n",
            "0         Set 1: Valuation -0.0071     13.8121\n",
            "2  Set 3: Macro Conditions -0.0537     13.0336\n",
            "3  Set 4: Corporate Health -0.0687     13.4984\n",
            "1    Set 2: Interest Rates -0.0918     13.1109\n",
            "6          Set 7: Full Set     NaN     13.2970\n"
          ]
        }
      ]
    },
    {
      "cell_type": "markdown",
      "source": [
        "Final Results"
      ],
      "metadata": {
        "id": "EliQytS6CNpe"
      }
    },
    {
      "cell_type": "code",
      "source": [
        "combined_results = []\n",
        "\n",
        "for set_name in signal_sets.keys():\n",
        "    result = {\"Signal Set\": set_name}\n",
        "\n",
        "    # AE\n",
        "    result[\"AE Sharpe\"] = round(sharpe_results_ae.get(set_name, float('nan')), 4)\n",
        "    result[\"AE IC\"] = round(ic_results_ae.get(set_name, float('nan')), 4)\n",
        "\n",
        "    # CAE\n",
        "    result[\"CAE Sharpe\"] = round(sharpe_results_cae.get(set_name, float('nan')), 4)\n",
        "    result[\"CAE IC\"] = round(ic_results_cae.get(set_name, float('nan')), 4)\n",
        "\n",
        "    # VAE\n",
        "    result[\"VAE Sharpe\"] = round(sharpe_results_vae.get(set_name, float('nan')), 4)\n",
        "    result[\"VAE IC\"] = round(ic_results_vae.get(set_name, float('nan')), 4)\n",
        "\n",
        "    combined_results.append(result)\n",
        "\n",
        "# Create DataFrame\n",
        "summary_df = pd.DataFrame(combined_results).sort_values(by=\"VAE Sharpe\", ascending=False)\n",
        "\n",
        "# Show\n",
        "print(\"📊 Final Comparison AE vs CAE vs VAE:\")\n",
        "display(summary_df)\n"
      ],
      "metadata": {
        "colab": {
          "base_uri": "https://localhost:8080/",
          "height": 286
        },
        "id": "FYcsHi8pCJ8H",
        "outputId": "d340ec34-0c76-482e-9088-0b74a32927f5"
      },
      "execution_count": 106,
      "outputs": [
        {
          "output_type": "stream",
          "name": "stdout",
          "text": [
            "📊 Final Comparison AE vs CAE vs VAE:\n"
          ]
        },
        {
          "output_type": "display_data",
          "data": {
            "text/plain": [
              "                Signal Set  AE Sharpe   AE IC  CAE Sharpe  CAE IC  VAE Sharpe  \\\n",
              "0         Set 1: Valuation    11.2905  0.1896     11.5058  0.2496     13.8121   \n",
              "3  Set 4: Corporate Health    12.3166  0.2442     11.1546  0.1202     13.4984   \n",
              "6          Set 7: Full Set    10.7590  0.2436     10.7920  0.1034     13.2970   \n",
              "1    Set 2: Interest Rates    12.9849  0.3280     13.2221  0.3391     13.1109   \n",
              "2  Set 3: Macro Conditions    10.6931 -0.3357     10.4853 -0.4675     13.0336   \n",
              "4    Set 5: Risk Sentiment    11.3266 -0.2656     12.1900 -0.2932     10.3169   \n",
              "5     Set 6: Style & Asset     9.6023  0.9664     12.3638  0.8815      9.6224   \n",
              "\n",
              "   VAE IC  \n",
              "0 -0.0071  \n",
              "3 -0.0687  \n",
              "6     NaN  \n",
              "1 -0.0918  \n",
              "2 -0.0537  \n",
              "4  0.0801  \n",
              "5  0.4587  "
            ],
            "text/html": [
              "\n",
              "  <div id=\"df-defda5a2-e3ed-430c-8e06-59a49f40d95d\" class=\"colab-df-container\">\n",
              "    <div>\n",
              "<style scoped>\n",
              "    .dataframe tbody tr th:only-of-type {\n",
              "        vertical-align: middle;\n",
              "    }\n",
              "\n",
              "    .dataframe tbody tr th {\n",
              "        vertical-align: top;\n",
              "    }\n",
              "\n",
              "    .dataframe thead th {\n",
              "        text-align: right;\n",
              "    }\n",
              "</style>\n",
              "<table border=\"1\" class=\"dataframe\">\n",
              "  <thead>\n",
              "    <tr style=\"text-align: right;\">\n",
              "      <th></th>\n",
              "      <th>Signal Set</th>\n",
              "      <th>AE Sharpe</th>\n",
              "      <th>AE IC</th>\n",
              "      <th>CAE Sharpe</th>\n",
              "      <th>CAE IC</th>\n",
              "      <th>VAE Sharpe</th>\n",
              "      <th>VAE IC</th>\n",
              "    </tr>\n",
              "  </thead>\n",
              "  <tbody>\n",
              "    <tr>\n",
              "      <th>0</th>\n",
              "      <td>Set 1: Valuation</td>\n",
              "      <td>11.2905</td>\n",
              "      <td>0.1896</td>\n",
              "      <td>11.5058</td>\n",
              "      <td>0.2496</td>\n",
              "      <td>13.8121</td>\n",
              "      <td>-0.0071</td>\n",
              "    </tr>\n",
              "    <tr>\n",
              "      <th>3</th>\n",
              "      <td>Set 4: Corporate Health</td>\n",
              "      <td>12.3166</td>\n",
              "      <td>0.2442</td>\n",
              "      <td>11.1546</td>\n",
              "      <td>0.1202</td>\n",
              "      <td>13.4984</td>\n",
              "      <td>-0.0687</td>\n",
              "    </tr>\n",
              "    <tr>\n",
              "      <th>6</th>\n",
              "      <td>Set 7: Full Set</td>\n",
              "      <td>10.7590</td>\n",
              "      <td>0.2436</td>\n",
              "      <td>10.7920</td>\n",
              "      <td>0.1034</td>\n",
              "      <td>13.2970</td>\n",
              "      <td>NaN</td>\n",
              "    </tr>\n",
              "    <tr>\n",
              "      <th>1</th>\n",
              "      <td>Set 2: Interest Rates</td>\n",
              "      <td>12.9849</td>\n",
              "      <td>0.3280</td>\n",
              "      <td>13.2221</td>\n",
              "      <td>0.3391</td>\n",
              "      <td>13.1109</td>\n",
              "      <td>-0.0918</td>\n",
              "    </tr>\n",
              "    <tr>\n",
              "      <th>2</th>\n",
              "      <td>Set 3: Macro Conditions</td>\n",
              "      <td>10.6931</td>\n",
              "      <td>-0.3357</td>\n",
              "      <td>10.4853</td>\n",
              "      <td>-0.4675</td>\n",
              "      <td>13.0336</td>\n",
              "      <td>-0.0537</td>\n",
              "    </tr>\n",
              "    <tr>\n",
              "      <th>4</th>\n",
              "      <td>Set 5: Risk Sentiment</td>\n",
              "      <td>11.3266</td>\n",
              "      <td>-0.2656</td>\n",
              "      <td>12.1900</td>\n",
              "      <td>-0.2932</td>\n",
              "      <td>10.3169</td>\n",
              "      <td>0.0801</td>\n",
              "    </tr>\n",
              "    <tr>\n",
              "      <th>5</th>\n",
              "      <td>Set 6: Style &amp; Asset</td>\n",
              "      <td>9.6023</td>\n",
              "      <td>0.9664</td>\n",
              "      <td>12.3638</td>\n",
              "      <td>0.8815</td>\n",
              "      <td>9.6224</td>\n",
              "      <td>0.4587</td>\n",
              "    </tr>\n",
              "  </tbody>\n",
              "</table>\n",
              "</div>\n",
              "    <div class=\"colab-df-buttons\">\n",
              "\n",
              "  <div class=\"colab-df-container\">\n",
              "    <button class=\"colab-df-convert\" onclick=\"convertToInteractive('df-defda5a2-e3ed-430c-8e06-59a49f40d95d')\"\n",
              "            title=\"Convert this dataframe to an interactive table.\"\n",
              "            style=\"display:none;\">\n",
              "\n",
              "  <svg xmlns=\"http://www.w3.org/2000/svg\" height=\"24px\" viewBox=\"0 -960 960 960\">\n",
              "    <path d=\"M120-120v-720h720v720H120Zm60-500h600v-160H180v160Zm220 220h160v-160H400v160Zm0 220h160v-160H400v160ZM180-400h160v-160H180v160Zm440 0h160v-160H620v160ZM180-180h160v-160H180v160Zm440 0h160v-160H620v160Z\"/>\n",
              "  </svg>\n",
              "    </button>\n",
              "\n",
              "  <style>\n",
              "    .colab-df-container {\n",
              "      display:flex;\n",
              "      gap: 12px;\n",
              "    }\n",
              "\n",
              "    .colab-df-convert {\n",
              "      background-color: #E8F0FE;\n",
              "      border: none;\n",
              "      border-radius: 50%;\n",
              "      cursor: pointer;\n",
              "      display: none;\n",
              "      fill: #1967D2;\n",
              "      height: 32px;\n",
              "      padding: 0 0 0 0;\n",
              "      width: 32px;\n",
              "    }\n",
              "\n",
              "    .colab-df-convert:hover {\n",
              "      background-color: #E2EBFA;\n",
              "      box-shadow: 0px 1px 2px rgba(60, 64, 67, 0.3), 0px 1px 3px 1px rgba(60, 64, 67, 0.15);\n",
              "      fill: #174EA6;\n",
              "    }\n",
              "\n",
              "    .colab-df-buttons div {\n",
              "      margin-bottom: 4px;\n",
              "    }\n",
              "\n",
              "    [theme=dark] .colab-df-convert {\n",
              "      background-color: #3B4455;\n",
              "      fill: #D2E3FC;\n",
              "    }\n",
              "\n",
              "    [theme=dark] .colab-df-convert:hover {\n",
              "      background-color: #434B5C;\n",
              "      box-shadow: 0px 1px 3px 1px rgba(0, 0, 0, 0.15);\n",
              "      filter: drop-shadow(0px 1px 2px rgba(0, 0, 0, 0.3));\n",
              "      fill: #FFFFFF;\n",
              "    }\n",
              "  </style>\n",
              "\n",
              "    <script>\n",
              "      const buttonEl =\n",
              "        document.querySelector('#df-defda5a2-e3ed-430c-8e06-59a49f40d95d button.colab-df-convert');\n",
              "      buttonEl.style.display =\n",
              "        google.colab.kernel.accessAllowed ? 'block' : 'none';\n",
              "\n",
              "      async function convertToInteractive(key) {\n",
              "        const element = document.querySelector('#df-defda5a2-e3ed-430c-8e06-59a49f40d95d');\n",
              "        const dataTable =\n",
              "          await google.colab.kernel.invokeFunction('convertToInteractive',\n",
              "                                                    [key], {});\n",
              "        if (!dataTable) return;\n",
              "\n",
              "        const docLinkHtml = 'Like what you see? Visit the ' +\n",
              "          '<a target=\"_blank\" href=https://colab.research.google.com/notebooks/data_table.ipynb>data table notebook</a>'\n",
              "          + ' to learn more about interactive tables.';\n",
              "        element.innerHTML = '';\n",
              "        dataTable['output_type'] = 'display_data';\n",
              "        await google.colab.output.renderOutput(dataTable, element);\n",
              "        const docLink = document.createElement('div');\n",
              "        docLink.innerHTML = docLinkHtml;\n",
              "        element.appendChild(docLink);\n",
              "      }\n",
              "    </script>\n",
              "  </div>\n",
              "\n",
              "\n",
              "    <div id=\"df-c22af86e-d386-4b99-b47f-95e4391ae44a\">\n",
              "      <button class=\"colab-df-quickchart\" onclick=\"quickchart('df-c22af86e-d386-4b99-b47f-95e4391ae44a')\"\n",
              "                title=\"Suggest charts\"\n",
              "                style=\"display:none;\">\n",
              "\n",
              "<svg xmlns=\"http://www.w3.org/2000/svg\" height=\"24px\"viewBox=\"0 0 24 24\"\n",
              "     width=\"24px\">\n",
              "    <g>\n",
              "        <path d=\"M19 3H5c-1.1 0-2 .9-2 2v14c0 1.1.9 2 2 2h14c1.1 0 2-.9 2-2V5c0-1.1-.9-2-2-2zM9 17H7v-7h2v7zm4 0h-2V7h2v10zm4 0h-2v-4h2v4z\"/>\n",
              "    </g>\n",
              "</svg>\n",
              "      </button>\n",
              "\n",
              "<style>\n",
              "  .colab-df-quickchart {\n",
              "      --bg-color: #E8F0FE;\n",
              "      --fill-color: #1967D2;\n",
              "      --hover-bg-color: #E2EBFA;\n",
              "      --hover-fill-color: #174EA6;\n",
              "      --disabled-fill-color: #AAA;\n",
              "      --disabled-bg-color: #DDD;\n",
              "  }\n",
              "\n",
              "  [theme=dark] .colab-df-quickchart {\n",
              "      --bg-color: #3B4455;\n",
              "      --fill-color: #D2E3FC;\n",
              "      --hover-bg-color: #434B5C;\n",
              "      --hover-fill-color: #FFFFFF;\n",
              "      --disabled-bg-color: #3B4455;\n",
              "      --disabled-fill-color: #666;\n",
              "  }\n",
              "\n",
              "  .colab-df-quickchart {\n",
              "    background-color: var(--bg-color);\n",
              "    border: none;\n",
              "    border-radius: 50%;\n",
              "    cursor: pointer;\n",
              "    display: none;\n",
              "    fill: var(--fill-color);\n",
              "    height: 32px;\n",
              "    padding: 0;\n",
              "    width: 32px;\n",
              "  }\n",
              "\n",
              "  .colab-df-quickchart:hover {\n",
              "    background-color: var(--hover-bg-color);\n",
              "    box-shadow: 0 1px 2px rgba(60, 64, 67, 0.3), 0 1px 3px 1px rgba(60, 64, 67, 0.15);\n",
              "    fill: var(--button-hover-fill-color);\n",
              "  }\n",
              "\n",
              "  .colab-df-quickchart-complete:disabled,\n",
              "  .colab-df-quickchart-complete:disabled:hover {\n",
              "    background-color: var(--disabled-bg-color);\n",
              "    fill: var(--disabled-fill-color);\n",
              "    box-shadow: none;\n",
              "  }\n",
              "\n",
              "  .colab-df-spinner {\n",
              "    border: 2px solid var(--fill-color);\n",
              "    border-color: transparent;\n",
              "    border-bottom-color: var(--fill-color);\n",
              "    animation:\n",
              "      spin 1s steps(1) infinite;\n",
              "  }\n",
              "\n",
              "  @keyframes spin {\n",
              "    0% {\n",
              "      border-color: transparent;\n",
              "      border-bottom-color: var(--fill-color);\n",
              "      border-left-color: var(--fill-color);\n",
              "    }\n",
              "    20% {\n",
              "      border-color: transparent;\n",
              "      border-left-color: var(--fill-color);\n",
              "      border-top-color: var(--fill-color);\n",
              "    }\n",
              "    30% {\n",
              "      border-color: transparent;\n",
              "      border-left-color: var(--fill-color);\n",
              "      border-top-color: var(--fill-color);\n",
              "      border-right-color: var(--fill-color);\n",
              "    }\n",
              "    40% {\n",
              "      border-color: transparent;\n",
              "      border-right-color: var(--fill-color);\n",
              "      border-top-color: var(--fill-color);\n",
              "    }\n",
              "    60% {\n",
              "      border-color: transparent;\n",
              "      border-right-color: var(--fill-color);\n",
              "    }\n",
              "    80% {\n",
              "      border-color: transparent;\n",
              "      border-right-color: var(--fill-color);\n",
              "      border-bottom-color: var(--fill-color);\n",
              "    }\n",
              "    90% {\n",
              "      border-color: transparent;\n",
              "      border-bottom-color: var(--fill-color);\n",
              "    }\n",
              "  }\n",
              "</style>\n",
              "\n",
              "      <script>\n",
              "        async function quickchart(key) {\n",
              "          const quickchartButtonEl =\n",
              "            document.querySelector('#' + key + ' button');\n",
              "          quickchartButtonEl.disabled = true;  // To prevent multiple clicks.\n",
              "          quickchartButtonEl.classList.add('colab-df-spinner');\n",
              "          try {\n",
              "            const charts = await google.colab.kernel.invokeFunction(\n",
              "                'suggestCharts', [key], {});\n",
              "          } catch (error) {\n",
              "            console.error('Error during call to suggestCharts:', error);\n",
              "          }\n",
              "          quickchartButtonEl.classList.remove('colab-df-spinner');\n",
              "          quickchartButtonEl.classList.add('colab-df-quickchart-complete');\n",
              "        }\n",
              "        (() => {\n",
              "          let quickchartButtonEl =\n",
              "            document.querySelector('#df-c22af86e-d386-4b99-b47f-95e4391ae44a button');\n",
              "          quickchartButtonEl.style.display =\n",
              "            google.colab.kernel.accessAllowed ? 'block' : 'none';\n",
              "        })();\n",
              "      </script>\n",
              "    </div>\n",
              "\n",
              "  <div id=\"id_7b58fa5d-9115-40e8-a679-e326ef1595c3\">\n",
              "    <style>\n",
              "      .colab-df-generate {\n",
              "        background-color: #E8F0FE;\n",
              "        border: none;\n",
              "        border-radius: 50%;\n",
              "        cursor: pointer;\n",
              "        display: none;\n",
              "        fill: #1967D2;\n",
              "        height: 32px;\n",
              "        padding: 0 0 0 0;\n",
              "        width: 32px;\n",
              "      }\n",
              "\n",
              "      .colab-df-generate:hover {\n",
              "        background-color: #E2EBFA;\n",
              "        box-shadow: 0px 1px 2px rgba(60, 64, 67, 0.3), 0px 1px 3px 1px rgba(60, 64, 67, 0.15);\n",
              "        fill: #174EA6;\n",
              "      }\n",
              "\n",
              "      [theme=dark] .colab-df-generate {\n",
              "        background-color: #3B4455;\n",
              "        fill: #D2E3FC;\n",
              "      }\n",
              "\n",
              "      [theme=dark] .colab-df-generate:hover {\n",
              "        background-color: #434B5C;\n",
              "        box-shadow: 0px 1px 3px 1px rgba(0, 0, 0, 0.15);\n",
              "        filter: drop-shadow(0px 1px 2px rgba(0, 0, 0, 0.3));\n",
              "        fill: #FFFFFF;\n",
              "      }\n",
              "    </style>\n",
              "    <button class=\"colab-df-generate\" onclick=\"generateWithVariable('summary_df')\"\n",
              "            title=\"Generate code using this dataframe.\"\n",
              "            style=\"display:none;\">\n",
              "\n",
              "  <svg xmlns=\"http://www.w3.org/2000/svg\" height=\"24px\"viewBox=\"0 0 24 24\"\n",
              "       width=\"24px\">\n",
              "    <path d=\"M7,19H8.4L18.45,9,17,7.55,7,17.6ZM5,21V16.75L18.45,3.32a2,2,0,0,1,2.83,0l1.4,1.43a1.91,1.91,0,0,1,.58,1.4,1.91,1.91,0,0,1-.58,1.4L9.25,21ZM18.45,9,17,7.55Zm-12,3A5.31,5.31,0,0,0,4.9,8.1,5.31,5.31,0,0,0,1,6.5,5.31,5.31,0,0,0,4.9,4.9,5.31,5.31,0,0,0,6.5,1,5.31,5.31,0,0,0,8.1,4.9,5.31,5.31,0,0,0,12,6.5,5.46,5.46,0,0,0,6.5,12Z\"/>\n",
              "  </svg>\n",
              "    </button>\n",
              "    <script>\n",
              "      (() => {\n",
              "      const buttonEl =\n",
              "        document.querySelector('#id_7b58fa5d-9115-40e8-a679-e326ef1595c3 button.colab-df-generate');\n",
              "      buttonEl.style.display =\n",
              "        google.colab.kernel.accessAllowed ? 'block' : 'none';\n",
              "\n",
              "      buttonEl.onclick = () => {\n",
              "        google.colab.notebook.generateWithVariable('summary_df');\n",
              "      }\n",
              "      })();\n",
              "    </script>\n",
              "  </div>\n",
              "\n",
              "    </div>\n",
              "  </div>\n"
            ],
            "application/vnd.google.colaboratory.intrinsic+json": {
              "type": "dataframe",
              "variable_name": "summary_df",
              "summary": "{\n  \"name\": \"summary_df\",\n  \"rows\": 7,\n  \"fields\": [\n    {\n      \"column\": \"Signal Set\",\n      \"properties\": {\n        \"dtype\": \"string\",\n        \"num_unique_values\": 7,\n        \"samples\": [\n          \"Set 1: Valuation\",\n          \"Set 4: Corporate Health\",\n          \"Set 5: Risk Sentiment\"\n        ],\n        \"semantic_type\": \"\",\n        \"description\": \"\"\n      }\n    },\n    {\n      \"column\": \"AE Sharpe\",\n      \"properties\": {\n        \"dtype\": \"number\",\n        \"std\": 1.1116092791641357,\n        \"min\": 9.6023,\n        \"max\": 12.9849,\n        \"num_unique_values\": 7,\n        \"samples\": [\n          11.2905,\n          12.3166,\n          11.3266\n        ],\n        \"semantic_type\": \"\",\n        \"description\": \"\"\n      }\n    },\n    {\n      \"column\": \"AE IC\",\n      \"properties\": {\n        \"dtype\": \"number\",\n        \"std\": 0.43037759556220484,\n        \"min\": -0.3357,\n        \"max\": 0.9664,\n        \"num_unique_values\": 7,\n        \"samples\": [\n          0.1896,\n          0.2442,\n          -0.2656\n        ],\n        \"semantic_type\": \"\",\n        \"description\": \"\"\n      }\n    },\n    {\n      \"column\": \"CAE Sharpe\",\n      \"properties\": {\n        \"dtype\": \"number\",\n        \"std\": 0.9684773422135138,\n        \"min\": 10.4853,\n        \"max\": 13.2221,\n        \"num_unique_values\": 7,\n        \"samples\": [\n          11.5058,\n          11.1546,\n          12.19\n        ],\n        \"semantic_type\": \"\",\n        \"description\": \"\"\n      }\n    },\n    {\n      \"column\": \"CAE IC\",\n      \"properties\": {\n        \"dtype\": \"number\",\n        \"std\": 0.4396231492236656,\n        \"min\": -0.4675,\n        \"max\": 0.8815,\n        \"num_unique_values\": 7,\n        \"samples\": [\n          0.2496,\n          0.1202,\n          -0.2932\n        ],\n        \"semantic_type\": \"\",\n        \"description\": \"\"\n      }\n    },\n    {\n      \"column\": \"VAE Sharpe\",\n      \"properties\": {\n        \"dtype\": \"number\",\n        \"std\": 1.6814985952162687,\n        \"min\": 9.6224,\n        \"max\": 13.8121,\n        \"num_unique_values\": 7,\n        \"samples\": [\n          13.8121,\n          13.4984,\n          10.3169\n        ],\n        \"semantic_type\": \"\",\n        \"description\": \"\"\n      }\n    },\n    {\n      \"column\": \"VAE IC\",\n      \"properties\": {\n        \"dtype\": \"number\",\n        \"std\": 0.20789501597360785,\n        \"min\": -0.0918,\n        \"max\": 0.4587,\n        \"num_unique_values\": 6,\n        \"samples\": [\n          -0.0071,\n          -0.0687,\n          0.4587\n        ],\n        \"semantic_type\": \"\",\n        \"description\": \"\"\n      }\n    }\n  ]\n}"
            }
          },
          "metadata": {}
        }
      ]
    }
  ],
  "metadata": {
    "colab": {
      "provenance": []
    },
    "kernelspec": {
      "display_name": "Python 3",
      "language": "python",
      "name": "python3"
    },
    "language_info": {
      "name": "python",
      "version": "3.x"
    }
  },
  "nbformat": 4,
  "nbformat_minor": 0
}